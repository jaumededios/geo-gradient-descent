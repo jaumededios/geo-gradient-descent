{
 "cells": [
  {
   "cell_type": "code",
   "execution_count": 326,
   "metadata": {},
   "outputs": [],
   "source": [
    "%matplotlib inline\n",
    "import rasterio\n",
    "import numpy as np\n",
    "from matplotlib import pyplot as plt\n",
    "from scipy import special, ndimage\n",
    "from PIL import Image\n",
    "import simplejson as json"
   ]
  },
  {
   "cell_type": "code",
   "execution_count": 218,
   "metadata": {},
   "outputs": [],
   "source": [
    "raster = rasterio.open('srtm_37_04.tif')\n",
    "height = raster.read(1).astype(float)"
   ]
  },
  {
   "cell_type": "code",
   "execution_count": 219,
   "metadata": {},
   "outputs": [],
   "source": [
    "left, bottom, right, top = list(raster.bounds)"
   ]
  },
  {
   "cell_type": "code",
   "execution_count": 220,
   "metadata": {},
   "outputs": [],
   "source": [
    "min_height = np.min(height[height>-1000])\n",
    "max_height = np.max(height)\n",
    "\n",
    "step = 254./(max_height-min_height) # we save zero for the sea"
   ]
  },
  {
   "cell_type": "code",
   "execution_count": 305,
   "metadata": {},
   "outputs": [],
   "source": [
    "filtered_height = np.copy(height)\n",
    "filtered_height[height<min_height] = min_height-1\n",
    "filtered_height = ndimage.gaussian_filter(filtered_height,sigma = 3)\n",
    "filtered_height[height<min_height] = -1000"
   ]
  },
  {
   "cell_type": "code",
   "execution_count": 306,
   "metadata": {},
   "outputs": [],
   "source": [
    "gy,gx = np.gradient(filtered_height)"
   ]
  },
  {
   "cell_type": "code",
   "execution_count": 316,
   "metadata": {},
   "outputs": [],
   "source": [
    "def discretize(orig_values, nbins=256, step = 100):\n",
    "    real_nbins = nbins\n",
    "    for i in range(20):\n",
    "        centers = np.linspace(.5/real_nbins,100-.5/real_nbins,real_nbins)\n",
    "        vals = np.percentile(orig_values[::step],centers)\n",
    "        unique_vals = np.unique(vals)\n",
    "        real_nbins = real_nbins*nbins/len(unique_vals)\n",
    "    unique_vals, keys = np.unique(vals, return_index=True)\n",
    "    discretized = np.digitize( orig_values, bins = (unique_vals[1:]+unique_vals[:-1])/2)\n",
    "    return discretized, vals[keys]"
   ]
  },
  {
   "cell_type": "code",
   "execution_count": 317,
   "metadata": {},
   "outputs": [],
   "source": [
    "disc_gx, dict_gx = discretize(gx)\n",
    "disc_gy, dict_gy = discretize(gy)\n",
    "disc_h, dict_h = discretize(filtered_height)"
   ]
  },
  {
   "cell_type": "code",
   "execution_count": 318,
   "metadata": {},
   "outputs": [],
   "source": [
    "join = np.moveaxis(np.array([disc_height,disc_gx,disc_gy]),0,-1).astype(np.uint8)"
   ]
  },
  {
   "cell_type": "code",
   "execution_count": 319,
   "metadata": {},
   "outputs": [],
   "source": [
    "img = Image.fromarray(join[::3,::3])\n",
    "img.save('compressed.png')"
   ]
  },
  {
   "cell_type": "code",
   "execution_count": 336,
   "metadata": {},
   "outputs": [],
   "source": [
    "dict_values = {\n",
    "    'height': list(np.round(dict_h,2)),\n",
    "    'gx': list(np.round(dict_gx,2)),\n",
    "    'gy': list(np.round(dict_gy,2)),\n",
    "    'left':left,\n",
    "    'bottom':bottom,\n",
    "    'right':right,\n",
    "    'top':top\n",
    "}"
   ]
  },
  {
   "cell_type": "code",
   "execution_count": 337,
   "metadata": {},
   "outputs": [],
   "source": [
    "with open('comp_dict.json','w') as f:\n",
    "    json.dump(dict_values, f)"
   ]
  },
  {
   "cell_type": "code",
   "execution_count": 329,
   "metadata": {},
   "outputs": [
    {
     "data": {
      "text/plain": [
       "<function numpy.core.fromnumeric.round_>"
      ]
     },
     "execution_count": 329,
     "metadata": {},
     "output_type": "execute_result"
    }
   ],
   "source": [
    "np.round"
   ]
  },
  {
   "cell_type": "code",
   "execution_count": null,
   "metadata": {},
   "outputs": [],
   "source": []
  }
 ],
 "metadata": {
  "kernelspec": {
   "display_name": "Python 2",
   "language": "python",
   "name": "python2"
  },
  "language_info": {
   "codemirror_mode": {
    "name": "ipython",
    "version": 2
   },
   "file_extension": ".py",
   "mimetype": "text/x-python",
   "name": "python",
   "nbconvert_exporter": "python",
   "pygments_lexer": "ipython2",
   "version": "2.7.14"
  }
 },
 "nbformat": 4,
 "nbformat_minor": 2
}
